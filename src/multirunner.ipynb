{
 "cells": [
  {
   "cell_type": "markdown",
   "metadata": {},
   "source": [
    "# Qiskit Multirunner"
   ]
  },
  {
   "cell_type": "markdown",
   "metadata": {},
   "source": [
    "### Imports"
   ]
  },
  {
   "cell_type": "code",
   "execution_count": 28,
   "metadata": {},
   "outputs": [],
   "source": [
    "import quimb.tensor\n",
    "import qiskit\n",
    "from qiskit import QuantumCircuit, QuantumRegister\n",
    "import qiskit_aer\n",
    "from mqt import ddsim\n",
    "\n",
    "from qiskit_aer import AerSimulator\n",
    "from qiskit_quimb import quimb_circuit\n",
    "from qiskit_qulacs import QulacsProvider"
   ]
  },
  {
   "cell_type": "markdown",
   "metadata": {},
   "source": [
    "### Sample Circuit"
   ]
  },
  {
   "cell_type": "code",
   "execution_count": 29,
   "metadata": {},
   "outputs": [],
   "source": [
    "def get_sample_circuit() -> QuantumCircuit:\n",
    "    qubits = QuantumRegister(1)\n",
    "    qc = QuantumCircuit(qubits)\n",
    "    qc.h(qubits[0])\n",
    "\n",
    "    return qc"
   ]
  },
  {
   "cell_type": "code",
   "execution_count": 30,
   "metadata": {},
   "outputs": [
    {
     "data": {
      "text/html": [
       "<pre style=\"word-wrap: normal;white-space: pre;background: #fff0;line-height: 1.1;font-family: &quot;Courier New&quot;,Courier,monospace\">     ┌───┐\n",
       "q13: ┤ H ├\n",
       "     └───┘</pre>"
      ],
      "text/plain": [
       "     ┌───┐\n",
       "q13: ┤ H ├\n",
       "     └───┘"
      ]
     },
     "execution_count": 30,
     "metadata": {},
     "output_type": "execute_result"
    }
   ],
   "source": [
    "# Display our sample circuit\n",
    "qc = get_sample_circuit()\n",
    "qc.draw()"
   ]
  },
  {
   "cell_type": "markdown",
   "metadata": {},
   "source": [
    "### Qiskit AER Execution"
   ]
  },
  {
   "cell_type": "code",
   "execution_count": 31,
   "metadata": {},
   "outputs": [
    {
     "data": {
      "text/plain": [
       "Result(backend_name='aer_simulator', backend_version='0.16.3', qobj_id='', job_id='d4b1b728-8a5b-4ac9-bbb1-d559bfc9d729', success=True, results=[ExperimentResult(shots=1024, success=True, meas_level=2, data=ExperimentResultData(), header=QobjExperimentHeader(creg_sizes=[], global_phase=0.0, memory_slots=0, n_qubits=1, name='circuit-175', qreg_sizes=[['q14', 1]], metadata={}), status=DONE, seed_simulator=3142879630, metadata={'time_taken': 4.4744e-05, 'num_bind_params': 1, 'required_memory_mb': 0, 'input_qubit_map': [], 'method': 'stabilizer', 'device': 'CPU', 'num_qubits': 0, 'parallel_state_update': 8, 'active_input_qubits': [], 'num_clbits': 0, 'remapped_qubits': False, 'parallel_shots': 1, 'runtime_parameter_bind': False, 'max_memory_mb': 15900, 'measure_sampling': False, 'batched_shots_optimization': False}, time_taken=4.4744e-05)], date=2025-03-27T18:51:09.634734, status=COMPLETED, header=None, metadata={'time_taken_parameter_binding': 5.49e-06, 'time_taken_execute': 9.2125e-05, 'omp_enabled': True, 'max_gpu_memory_mb': 0, 'max_memory_mb': 15900, 'parallel_experiments': 1}, time_taken=0.0009100437164306641)"
      ]
     },
     "execution_count": 31,
     "metadata": {},
     "output_type": "execute_result"
    }
   ],
   "source": [
    "def run_on_aer(qc: QuantumCircuit):\n",
    "    backend = AerSimulator()\n",
    "    result = backend.run(qc).result()\n",
    "    return result\n",
    "run_on_aer(get_sample_circuit())"
   ]
  },
  {
   "cell_type": "markdown",
   "metadata": {},
   "source": [
    "### Qiskit MQT Execution"
   ]
  },
  {
   "cell_type": "code",
   "execution_count": 32,
   "metadata": {},
   "outputs": [
    {
     "data": {
      "text/plain": [
       "Result(backend_name='qasm_simulator', backend_version='1.24.0', qobj_id='None', job_id='9cb80df0-3e19-4167-aa7a-ec8ae2b349c7', success=True, results=[ExperimentResult(shots=1024, success=True, meas_level=2, data=ExperimentResultData(counts={'0x0': 536, '0x1': 488}, time_taken=0.008974790573120117), header=DDSIMHeader(name='circuit-176', n_qubits=1, memory_slots=0, global_phase=0.0, creg_sizes=[], clbit_labels=[], qreg_sizes=[('q15', 1)], qubit_labels=[('q15', 0)]), status=DONE, seed=-1, metadata={})], date=None, status=COMPLETED, header=None, time_taken=0.009807825088500977)"
      ]
     },
     "execution_count": 32,
     "metadata": {},
     "output_type": "execute_result"
    }
   ],
   "source": [
    "def run_on_mqt(qc: QuantumCircuit):\n",
    "    backend = ddsim.DDSIMProvider().get_backend(\"qasm_simulator\")\n",
    "    result = backend.run(qc).result()\n",
    "    return result\n",
    "\n",
    "run_on_mqt(get_sample_circuit())"
   ]
  },
  {
   "cell_type": "markdown",
   "metadata": {},
   "source": [
    "### Qiskit Qulacs Execution"
   ]
  },
  {
   "cell_type": "code",
   "execution_count": 33,
   "metadata": {},
   "outputs": [
    {
     "name": "stderr",
     "output_type": "stream",
     "text": [
      "/tmp/ipykernel_3016/180786299.py:2: DeprecationWarning: The class ``qiskit.providers.provider.Provider`` is deprecated as of qiskit 1.1. It will be removed no earlier than 3 months after the release date. The abstract Provider and ProviderV1 classes are deprecated and will be removed in 2.0. You can just remove it as the parent class and a `get_backend` method that returns the backends from `self.backend`.\n",
      "  backend = QulacsProvider().get_backend('qulacs_simulator')\n"
     ]
    },
    {
     "data": {
      "text/plain": [
       "Result(backend_name='qulacs_simulator', backend_version='0.1.0', qobj_id='0', job_id='070238d6-e17c-4329-ba29-dfb70b189f77', success=True, results=[ExperimentResult(shots=0, success=True, meas_level=2, data=ExperimentResultData(statevector=[0.70710678+0.j 0.70710678+0.j]), status=JobStatus.DONE)], date=None, status=JobStatus.DONE, header=None, time_taken=6.651878356933594e-05)"
      ]
     },
     "execution_count": 33,
     "metadata": {},
     "output_type": "execute_result"
    }
   ],
   "source": [
    "def run_on_qulacs(qc: QuantumCircuit):\n",
    "    backend = QulacsProvider().get_backend('qulacs_simulator')\n",
    "    result = backend.run(qc).result()\n",
    "    return result\n",
    "\n",
    "run_on_qulacs(get_sample_circuit())"
   ]
  },
  {
   "cell_type": "markdown",
   "metadata": {},
   "source": []
  }
 ],
 "metadata": {
  "kernelspec": {
   "display_name": "Python 3",
   "language": "python",
   "name": "python3"
  },
  "language_info": {
   "codemirror_mode": {
    "name": "ipython",
    "version": 3
   },
   "file_extension": ".py",
   "mimetype": "text/x-python",
   "name": "python",
   "nbconvert_exporter": "python",
   "pygments_lexer": "ipython3",
   "version": "3.11.11"
  }
 },
 "nbformat": 4,
 "nbformat_minor": 2
}
