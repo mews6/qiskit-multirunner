{
 "cells": [
  {
   "cell_type": "markdown",
   "metadata": {},
   "source": [
    "# Qiskit Multirunner"
   ]
  },
  {
   "cell_type": "markdown",
   "metadata": {},
   "source": [
    "### Imports"
   ]
  },
  {
   "cell_type": "code",
   "execution_count": 3,
   "metadata": {},
   "outputs": [],
   "source": [
    "import json\n",
    "import csv\n",
    "\n",
    "import qiskit\n",
    "from qiskit import QuantumCircuit, QuantumRegister\n",
    "import qiskit_aer\n",
    "from mqt import ddsim\n",
    "from qiskit_ibm_runtime import QiskitRuntimeService\n",
    "\n",
    "from qiskit_aer import AerSimulator\n",
    "from qiskit_qulacs import QulacsProvider"
   ]
  },
  {
   "cell_type": "markdown",
   "metadata": {},
   "source": [
    "### Sample Circuit"
   ]
  },
  {
   "cell_type": "code",
   "execution_count": 4,
   "metadata": {},
   "outputs": [],
   "source": [
    "def get_sample_circuit() -> QuantumCircuit:\n",
    "    qubits = QuantumRegister(1)\n",
    "    qc = QuantumCircuit(qubits)\n",
    "    qc.h(qubits[0])\n",
    "    qc.measure_all()\n",
    "    return qc"
   ]
  },
  {
   "cell_type": "code",
   "execution_count": 5,
   "metadata": {},
   "outputs": [
    {
     "data": {
      "text/html": [
       "<pre style=\"word-wrap: normal;white-space: pre;background: #fff0;line-height: 1.1;font-family: &quot;Courier New&quot;,Courier,monospace\">        ┌───┐ ░ ┌─┐\n",
       "    q1: ┤ H ├─░─┤M├\n",
       "        └───┘ ░ └╥┘\n",
       "meas: 1/═════════╩═\n",
       "                 0 </pre>"
      ],
      "text/plain": [
       "        ┌───┐ ░ ┌─┐\n",
       "    q1: ┤ H ├─░─┤M├\n",
       "        └───┘ ░ └╥┘\n",
       "meas: 1/═════════╩═\n",
       "                 0 "
      ]
     },
     "execution_count": 5,
     "metadata": {},
     "output_type": "execute_result"
    }
   ],
   "source": [
    "# Display our sample circuit\n",
    "qc = get_sample_circuit()\n",
    "qc.draw()"
   ]
  },
  {
   "cell_type": "markdown",
   "metadata": {},
   "source": [
    "### Qiskit AER Execution"
   ]
  },
  {
   "cell_type": "code",
   "execution_count": 6,
   "metadata": {},
   "outputs": [
    {
     "data": {
      "text/plain": [
       "Result(backend_name='aer_simulator', backend_version='0.16.3', qobj_id='', job_id='7fd0398a-2543-4a62-8012-aa9a588331d0', success=True, results=[ExperimentResult(shots=1024, success=True, meas_level=2, data=ExperimentResultData(counts={'0x1': 495, '0x0': 529}), header=QobjExperimentHeader(creg_sizes=[['meas', 1]], global_phase=0.0, memory_slots=1, n_qubits=1, name='circuit-163', qreg_sizes=[['q2', 1]], metadata={}), status=DONE, seed_simulator=2459301617, metadata={'num_bind_params': 1, 'runtime_parameter_bind': False, 'parallel_state_update': 4, 'parallel_shots': 1, 'sample_measure_time': 0.001278519, 'noise': 'ideal', 'batched_shots_optimization': False, 'remapped_qubits': False, 'active_input_qubits': [0], 'device': 'CPU', 'time_taken': 0.006751754, 'measure_sampling': True, 'num_clbits': 1, 'max_memory_mb': 8192, 'input_qubit_map': [[0, 0]], 'num_qubits': 1, 'method': 'stabilizer', 'required_memory_mb': 0, 'fusion': {'enabled': False}}, time_taken=0.006751754)], date=2025-03-27T22:41:58.706635, status=COMPLETED, header=None, metadata={'time_taken_parameter_binding': 0.000405061, 'max_memory_mb': 8192, 'time_taken_execute': 0.008086449, 'omp_enabled': True, 'max_gpu_memory_mb': 0, 'parallel_experiments': 1}, time_taken=0.019237995147705078)"
      ]
     },
     "execution_count": 6,
     "metadata": {},
     "output_type": "execute_result"
    }
   ],
   "source": [
    "def run_on_aer(qc: QuantumCircuit):\n",
    "    backend = AerSimulator()\n",
    "    result = backend.run(qc).result()\n",
    "    return result\n",
    "run_on_aer(get_sample_circuit())"
   ]
  },
  {
   "cell_type": "markdown",
   "metadata": {},
   "source": [
    "### Qiskit MQT Execution"
   ]
  },
  {
   "cell_type": "code",
   "execution_count": 7,
   "metadata": {},
   "outputs": [
    {
     "data": {
      "text/plain": [
       "Result(backend_name='qasm_simulator', backend_version='1.24.0', qobj_id='None', job_id='5b0738d5-316c-40e2-a1d7-5237eb9c52e2', success=True, results=[ExperimentResult(shots=1024, success=True, meas_level=2, data=ExperimentResultData(counts={'0x0': 517, '0x1': 507}, time_taken=0.020756006240844727), header=DDSIMHeader(name='circuit-164', n_qubits=1, memory_slots=1, global_phase=0.0, creg_sizes=[('meas', 1)], clbit_labels=[('meas', 0)], qreg_sizes=[('q3', 1)], qubit_labels=[('q3', 0)]), status=DONE, seed=-1, metadata={})], date=None, status=COMPLETED, header=None, time_taken=0.02271580696105957)"
      ]
     },
     "execution_count": 7,
     "metadata": {},
     "output_type": "execute_result"
    }
   ],
   "source": [
    "def run_on_mqt(qc: QuantumCircuit):\n",
    "    backend = ddsim.DDSIMProvider().get_backend(\"qasm_simulator\")\n",
    "    result = backend.run(qc).result()\n",
    "    return result\n",
    "\n",
    "run_on_mqt(get_sample_circuit())"
   ]
  },
  {
   "cell_type": "markdown",
   "metadata": {},
   "source": [
    "### Qiskit Qulacs Execution"
   ]
  },
  {
   "cell_type": "code",
   "execution_count": 8,
   "metadata": {},
   "outputs": [
    {
     "name": "stderr",
     "output_type": "stream",
     "text": [
      "/var/folders/0q/dj3wgc5576l38_bq_5tdyvf40000gn/T/ipykernel_1861/180786299.py:2: DeprecationWarning: The class ``qiskit.providers.provider.Provider`` is deprecated as of qiskit 1.1. It will be removed no earlier than 3 months after the release date. The abstract Provider and ProviderV1 classes are deprecated and will be removed in 2.0. You can just remove it as the parent class and a `get_backend` method that returns the backends from `self.backend`.\n",
      "  backend = QulacsProvider().get_backend('qulacs_simulator')\n",
      "/Users/mews/Documents/repos/qiskit-multirunner/.conda/lib/python3.11/site-packages/qiskit_qulacs/adapter.py:246: UserWarning: qiskit_qulacs.adapter: The Barrier instruction is not supported by Qiskit-Qulacs and has not been added to the circuit.\n",
      "  warnings.warn(\n",
      "/Users/mews/Documents/repos/qiskit-multirunner/.conda/lib/python3.11/site-packages/qiskit_qulacs/adapter.py:246: UserWarning: qiskit_qulacs.adapter: The Measure instruction is not supported by Qiskit-Qulacs and has not been added to the circuit.\n",
      "  warnings.warn(\n"
     ]
    },
    {
     "data": {
      "text/plain": [
       "Result(backend_name='qulacs_simulator', backend_version='0.1.0', qobj_id='0', job_id='a07c0e8c-d6ee-4e7b-80e3-dd9feec49f7b', success=True, results=[ExperimentResult(shots=0, success=True, meas_level=2, data=ExperimentResultData(statevector=[0.70710678+0.j 0.70710678+0.j]), status=JobStatus.DONE)], date=None, status=JobStatus.DONE, header=None, time_taken=0.0008740425109863281)"
      ]
     },
     "execution_count": 8,
     "metadata": {},
     "output_type": "execute_result"
    }
   ],
   "source": [
    "def run_on_qulacs(qc: QuantumCircuit):\n",
    "    backend = QulacsProvider().get_backend('qulacs_simulator')\n",
    "    result = backend.run(qc).result()\n",
    "    return result\n",
    "\n",
    "run_on_qulacs(get_sample_circuit())"
   ]
  },
  {
   "cell_type": "markdown",
   "metadata": {},
   "source": []
  },
  {
   "cell_type": "code",
   "execution_count": 20,
   "metadata": {},
   "outputs": [
    {
     "name": "stderr",
     "output_type": "stream",
     "text": [
      "/var/folders/0q/dj3wgc5576l38_bq_5tdyvf40000gn/T/ipykernel_1861/180786299.py:2: DeprecationWarning: The class ``qiskit.providers.provider.Provider`` is deprecated as of qiskit 1.1. It will be removed no earlier than 3 months after the release date. The abstract Provider and ProviderV1 classes are deprecated and will be removed in 2.0. You can just remove it as the parent class and a `get_backend` method that returns the backends from `self.backend`.\n",
      "  backend = QulacsProvider().get_backend('qulacs_simulator')\n",
      "/Users/mews/Documents/repos/qiskit-multirunner/.conda/lib/python3.11/site-packages/qiskit_qulacs/adapter.py:246: UserWarning: qiskit_qulacs.adapter: The Barrier instruction is not supported by Qiskit-Qulacs and has not been added to the circuit.\n",
      "  warnings.warn(\n",
      "/Users/mews/Documents/repos/qiskit-multirunner/.conda/lib/python3.11/site-packages/qiskit_qulacs/adapter.py:246: UserWarning: qiskit_qulacs.adapter: The Measure instruction is not supported by Qiskit-Qulacs and has not been added to the circuit.\n",
      "  warnings.warn(\n"
     ]
    }
   ],
   "source": [
    "def log_1000_simulations_per_sumulator():\n",
    "    samples = []\n",
    "    circuit = get_sample_circuit()\n",
    "    for i in range(0,999):\n",
    "        execution_dict = run_on_aer(circuit).to_dict()\n",
    "        samples.append(execution_dict)\n",
    "    for i in range(0,999):\n",
    "        execution_dict = run_on_mqt(circuit).to_dict()\n",
    "        samples.append(execution_dict)\n",
    "    for i in range(0,999):\n",
    "        execution_dict = run_on_qulacs(circuit).to_dict()\n",
    "        samples.append(execution_dict)\n",
    "    return samples\n",
    "\n",
    "def executions_to_csv(samples: list, target_file: str):\n",
    "    file = open(target_file, 'r+')\n",
    "    #get a sample of the dataset for write parameters\n",
    "    sample = samples[0]\n",
    "    #write the type header\n",
    "    header = ','.join(sample.keys())\n",
    "    file.write(header)\n",
    "\n",
    "    writer = csv.DictWriter(file, fieldnames=list(sample.keys()))\n",
    "\n",
    "    for i in samples:\n",
    "        writer.writerow(i)\n",
    "\n",
    "    file.close()\n",
    "\n",
    "    pass\n",
    "\n",
    "execs = log_1000_simulations_per_sumulator()\n",
    "executions_to_csv(execs, '../output/simulations.csv')"
   ]
  },
  {
   "cell_type": "markdown",
   "metadata": {},
   "source": [
    "# Real-hardware execution\n",
    "\n",
    "Configure the following with your account in order to execute jobs in actual IBM hardware, it implies a compute time cost, so you should probably be cautious about running this multiple times."
   ]
  },
  {
   "cell_type": "code",
   "execution_count": null,
   "metadata": {},
   "outputs": [
    {
     "ename": "AccountNotFoundError",
     "evalue": "'Unable to find account.'",
     "output_type": "error",
     "traceback": [
      "\u001b[31m---------------------------------------------------------------------------\u001b[39m",
      "\u001b[31mAccountNotFoundError\u001b[39m                      Traceback (most recent call last)",
      "\u001b[36mCell\u001b[39m\u001b[36m \u001b[39m\u001b[32mIn[48]\u001b[39m\u001b[32m, line 6\u001b[39m\n\u001b[32m      3\u001b[39m     result = backend.run(qc).result()\n\u001b[32m      4\u001b[39m     \u001b[38;5;28;01mreturn\u001b[39;00m result\n\u001b[32m----> \u001b[39m\u001b[32m6\u001b[39m \u001b[43mrun_on_hw\u001b[49m\u001b[43m(\u001b[49m\u001b[43mget_sample_circuit\u001b[49m\u001b[43m(\u001b[49m\u001b[43m)\u001b[49m\u001b[43m)\u001b[49m\n",
      "\u001b[36mCell\u001b[39m\u001b[36m \u001b[39m\u001b[32mIn[48]\u001b[39m\u001b[32m, line 2\u001b[39m, in \u001b[36mrun_on_hw\u001b[39m\u001b[34m(qc)\u001b[39m\n\u001b[32m      1\u001b[39m \u001b[38;5;28;01mdef\u001b[39;00m\u001b[38;5;250m \u001b[39m\u001b[34mrun_on_hw\u001b[39m(qc: QuantumCircuit):\n\u001b[32m----> \u001b[39m\u001b[32m2\u001b[39m     backend = \u001b[43mQiskitRuntimeService\u001b[49m\u001b[43m(\u001b[49m\u001b[43m)\u001b[49m.backend(\u001b[33m'\u001b[39m\u001b[33mibm_brisbane\u001b[39m\u001b[33m'\u001b[39m)\n\u001b[32m      3\u001b[39m     result = backend.run(qc).result()\n\u001b[32m      4\u001b[39m     \u001b[38;5;28;01mreturn\u001b[39;00m result\n",
      "\u001b[36mFile \u001b[39m\u001b[32m~/Documents/repos/qiskit-multirunner/.conda/lib/python3.11/site-packages/qiskit_ibm_runtime/qiskit_runtime_service.py:125\u001b[39m, in \u001b[36mQiskitRuntimeService.__init__\u001b[39m\u001b[34m(self, channel, token, url, filename, name, instance, proxies, verify, private_endpoint, url_resolver)\u001b[39m\n\u001b[32m     78\u001b[39m \u001b[38;5;250m\u001b[39m\u001b[33;03m\"\"\"QiskitRuntimeService constructor\u001b[39;00m\n\u001b[32m     79\u001b[39m \n\u001b[32m     80\u001b[39m \u001b[33;03mAn account is selected in the following order:\u001b[39;00m\n\u001b[32m   (...)\u001b[39m\u001b[32m    121\u001b[39m \u001b[33;03m    IBMInputValueError: If an input is invalid.\u001b[39;00m\n\u001b[32m    122\u001b[39m \u001b[33;03m\"\"\"\u001b[39;00m\n\u001b[32m    123\u001b[39m \u001b[38;5;28msuper\u001b[39m().\u001b[34m__init__\u001b[39m()\n\u001b[32m--> \u001b[39m\u001b[32m125\u001b[39m \u001b[38;5;28mself\u001b[39m._account = \u001b[38;5;28;43mself\u001b[39;49m\u001b[43m.\u001b[49m\u001b[43m_discover_account\u001b[49m\u001b[43m(\u001b[49m\n\u001b[32m    126\u001b[39m \u001b[43m    \u001b[49m\u001b[43mtoken\u001b[49m\u001b[43m=\u001b[49m\u001b[43mtoken\u001b[49m\u001b[43m,\u001b[49m\n\u001b[32m    127\u001b[39m \u001b[43m    \u001b[49m\u001b[43murl\u001b[49m\u001b[43m=\u001b[49m\u001b[43murl\u001b[49m\u001b[43m,\u001b[49m\n\u001b[32m    128\u001b[39m \u001b[43m    \u001b[49m\u001b[43minstance\u001b[49m\u001b[43m=\u001b[49m\u001b[43minstance\u001b[49m\u001b[43m,\u001b[49m\n\u001b[32m    129\u001b[39m \u001b[43m    \u001b[49m\u001b[43mchannel\u001b[49m\u001b[43m=\u001b[49m\u001b[43mchannel\u001b[49m\u001b[43m,\u001b[49m\n\u001b[32m    130\u001b[39m \u001b[43m    \u001b[49m\u001b[43mfilename\u001b[49m\u001b[43m=\u001b[49m\u001b[43mfilename\u001b[49m\u001b[43m,\u001b[49m\n\u001b[32m    131\u001b[39m \u001b[43m    \u001b[49m\u001b[43mname\u001b[49m\u001b[43m=\u001b[49m\u001b[43mname\u001b[49m\u001b[43m,\u001b[49m\n\u001b[32m    132\u001b[39m \u001b[43m    \u001b[49m\u001b[43mproxies\u001b[49m\u001b[43m=\u001b[49m\u001b[43mProxyConfiguration\u001b[49m\u001b[43m(\u001b[49m\u001b[43m*\u001b[49m\u001b[43m*\u001b[49m\u001b[43mproxies\u001b[49m\u001b[43m)\u001b[49m\u001b[43m \u001b[49m\u001b[38;5;28;43;01mif\u001b[39;49;00m\u001b[43m \u001b[49m\u001b[43mproxies\u001b[49m\u001b[43m \u001b[49m\u001b[38;5;28;43;01melse\u001b[39;49;00m\u001b[43m \u001b[49m\u001b[38;5;28;43;01mNone\u001b[39;49;00m\u001b[43m,\u001b[49m\n\u001b[32m    133\u001b[39m \u001b[43m    \u001b[49m\u001b[43mverify\u001b[49m\u001b[43m=\u001b[49m\u001b[43mverify\u001b[49m\u001b[43m,\u001b[49m\n\u001b[32m    134\u001b[39m \u001b[43m\u001b[49m\u001b[43m)\u001b[49m\n\u001b[32m    136\u001b[39m \u001b[38;5;28;01mif\u001b[39;00m private_endpoint \u001b[38;5;129;01mis\u001b[39;00m \u001b[38;5;129;01mnot\u001b[39;00m \u001b[38;5;28;01mNone\u001b[39;00m:\n\u001b[32m    137\u001b[39m     \u001b[38;5;28mself\u001b[39m._account.private_endpoint = private_endpoint\n",
      "\u001b[36mFile \u001b[39m\u001b[32m~/Documents/repos/qiskit-multirunner/.conda/lib/python3.11/site-packages/qiskit_ibm_runtime/qiskit_runtime_service.py:229\u001b[39m, in \u001b[36mQiskitRuntimeService._discover_account\u001b[39m\u001b[34m(self, token, url, instance, channel, filename, name, proxies, verify)\u001b[39m\n\u001b[32m    227\u001b[39m \u001b[38;5;66;03m# channel is not defined yet, get it from the AccountManager\u001b[39;00m\n\u001b[32m    228\u001b[39m \u001b[38;5;28;01mif\u001b[39;00m account \u001b[38;5;129;01mis\u001b[39;00m \u001b[38;5;28;01mNone\u001b[39;00m:\n\u001b[32m--> \u001b[39m\u001b[32m229\u001b[39m     account = \u001b[43mAccountManager\u001b[49m\u001b[43m.\u001b[49m\u001b[43mget\u001b[49m\u001b[43m(\u001b[49m\u001b[43mfilename\u001b[49m\u001b[43m=\u001b[49m\u001b[43mfilename\u001b[49m\u001b[43m)\u001b[49m\n\u001b[32m    231\u001b[39m \u001b[38;5;28;01mif\u001b[39;00m instance:\n\u001b[32m    232\u001b[39m     account.instance = instance\n",
      "\u001b[36mFile \u001b[39m\u001b[32m~/Documents/repos/qiskit-multirunner/.conda/lib/python3.11/site-packages/qiskit_ibm_runtime/accounts/management.py:195\u001b[39m, in \u001b[36mAccountManager.get\u001b[39m\u001b[34m(cls, filename, name, channel)\u001b[39m\n\u001b[32m    192\u001b[39m     \u001b[38;5;28;01mif\u001b[39;00m account_name \u001b[38;5;129;01min\u001b[39;00m all_config:\n\u001b[32m    193\u001b[39m         \u001b[38;5;28;01mreturn\u001b[39;00m Account.from_saved_format(all_config[account_name])\n\u001b[32m--> \u001b[39m\u001b[32m195\u001b[39m \u001b[38;5;28;01mraise\u001b[39;00m AccountNotFoundError(\u001b[33m\"\u001b[39m\u001b[33mUnable to find account.\u001b[39m\u001b[33m\"\u001b[39m)\n",
      "\u001b[31mAccountNotFoundError\u001b[39m: 'Unable to find account.'"
     ]
    }
   ],
   "source": [
    "def run_on_hw(qc: QuantumCircuit):\n",
    "    backend = QiskitRuntimeService().backend('ibm_brisbane')\n",
    "    result = backend.run(qc).result()\n",
    "    return result\n",
    "\n",
    "run_on_hw(get_sample_circuit())"
   ]
  },
  {
   "cell_type": "markdown",
   "metadata": {},
   "source": []
  }
 ],
 "metadata": {
  "kernelspec": {
   "display_name": "Python 3",
   "language": "python",
   "name": "python3"
  },
  "language_info": {
   "codemirror_mode": {
    "name": "ipython",
    "version": 3
   },
   "file_extension": ".py",
   "mimetype": "text/x-python",
   "name": "python",
   "nbconvert_exporter": "python",
   "pygments_lexer": "ipython3",
   "version": "3.11.11"
  }
 },
 "nbformat": 4,
 "nbformat_minor": 2
}
